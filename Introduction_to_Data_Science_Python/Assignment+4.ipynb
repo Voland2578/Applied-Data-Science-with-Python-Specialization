{
 "cells": [
  {
   "cell_type": "markdown",
   "metadata": {},
   "source": [
    "---\n",
    "\n",
    "_You are currently looking at **version 1.1** of this notebook. To download notebooks and datafiles, as well as get help on Jupyter notebooks in the Coursera platform, visit the [Jupyter Notebook FAQ](https://www.coursera.org/learn/python-data-analysis/resources/0dhYG) course resource._\n",
    "\n",
    "---"
   ]
  },
  {
   "cell_type": "code",
   "execution_count": 6,
   "metadata": {
    "collapsed": false
   },
   "outputs": [],
   "source": [
    "import pandas as pd\n",
    "import numpy as np\n",
    "from scipy.stats import ttest_ind\n",
    "import datetime\n",
    "\n"
   ]
  },
  {
   "cell_type": "markdown",
   "metadata": {},
   "source": [
    "# Assignment 4 - Hypothesis Testing\n",
    "This assignment requires more individual learning than previous assignments - you are encouraged to check out the [pandas documentation](http://pandas.pydata.org/pandas-docs/stable/) to find functions or methods you might not have used yet, or ask questions on [Stack Overflow](http://stackoverflow.com/) and tag them as pandas and python related. And of course, the discussion forums are open for interaction with your peers and the course staff.\n",
    "\n",
    "Definitions:\n",
    "* A _quarter_ is a specific three month period, Q1 is January through March, Q2 is April through June, Q3 is July through September, Q4 is October through December.\n",
    "* A _recession_ is defined as starting with two consecutive quarters of GDP decline, and ending with two consecutive quarters of GDP growth.\n",
    "* A _recession bottom_ is the quarter within a recession which had the lowest GDP.\n",
    "* A _university town_ is a city which has a high percentage of university students compared to the total population of the city.\n",
    "\n",
    "**Hypothesis**: University towns have their mean housing prices less effected by recessions. Run a t-test to compare the ratio of the mean price of houses in university towns the quarter before the recession starts compared to the recession bottom. (`price_ratio=quarter_before_recession/recession_bottom`)\n",
    "\n",
    "The following data files are available for this assignment:\n",
    "* From the [Zillow research data site](http://www.zillow.com/research/data/) there is housing data for the United States. In particular the datafile for [all homes at a city level](http://files.zillowstatic.com/research/public/City/City_Zhvi_AllHomes.csv), ```City_Zhvi_AllHomes.csv```, has median home sale prices at a fine grained level.\n",
    "* From the Wikipedia page on college towns is a list of [university towns in the United States](https://en.wikipedia.org/wiki/List_of_college_towns#College_towns_in_the_United_States) which has been copy and pasted into the file ```university_towns.txt```.\n",
    "* From Bureau of Economic Analysis, US Department of Commerce, the [GDP over time](http://www.bea.gov/national/index.htm#gdp) of the United States in current dollars (use the chained value in 2009 dollars), in quarterly intervals, in the file ```gdplev.xls```. For this assignment, only look at GDP data from the first quarter of 2000 onward.\n",
    "\n",
    "Each function in this assignment below is worth 10%, with the exception of ```run_ttest()```, which is worth 50%."
   ]
  },
  {
   "cell_type": "code",
   "execution_count": null,
   "metadata": {
    "collapsed": true
   },
   "outputs": [],
   "source": []
  },
  {
   "cell_type": "code",
   "execution_count": 4,
   "metadata": {
    "collapsed": false
   },
   "outputs": [],
   "source": [
    "# Use this dictionary to map state names to two letter acronyms\n",
    "states = {'OH': 'Ohio', 'KY': 'Kentucky', 'AS': 'American Samoa', 'NV': 'Nevada', 'WY': 'Wyoming', 'NA': 'National', 'AL': 'Alabama', 'MD': 'Maryland', 'AK': 'Alaska', 'UT': 'Utah', 'OR': 'Oregon', 'MT': 'Montana', 'IL': 'Illinois', 'TN': 'Tennessee', 'DC': 'District of Columbia', 'VT': 'Vermont', 'ID': 'Idaho', 'AR': 'Arkansas', 'ME': 'Maine', 'WA': 'Washington', 'HI': 'Hawaii', 'WI': 'Wisconsin', 'MI': 'Michigan', 'IN': 'Indiana', 'NJ': 'New Jersey', 'AZ': 'Arizona', 'GU': 'Guam', 'MS': 'Mississippi', 'PR': 'Puerto Rico', 'NC': 'North Carolina', 'TX': 'Texas', 'SD': 'South Dakota', 'MP': 'Northern Mariana Islands', 'IA': 'Iowa', 'MO': 'Missouri', 'CT': 'Connecticut', 'WV': 'West Virginia', 'SC': 'South Carolina', 'LA': 'Louisiana', 'KS': 'Kansas', 'NY': 'New York', 'NE': 'Nebraska', 'OK': 'Oklahoma', 'FL': 'Florida', 'CA': 'California', 'CO': 'Colorado', 'PA': 'Pennsylvania', 'DE': 'Delaware', 'NM': 'New Mexico', 'RI': 'Rhode Island', 'MN': 'Minnesota', 'VI': 'Virgin Islands', 'NH': 'New Hampshire', 'MA': 'Massachusetts', 'GA': 'Georgia', 'ND': 'North Dakota', 'VA': 'Virginia'}\n"
   ]
  },
  {
   "cell_type": "code",
   "execution_count": 3,
   "metadata": {
    "collapsed": false
   },
   "outputs": [],
   "source": [
    "# reads the housing file and drops everything before 2000\n",
    "def loadHousing():\n",
    "    df = pd.read_csv(\"City_Zhvi_AllHomes.csv\")\n",
    "    idx = df.columns.get_loc('2000-01')\n",
    "    allIndices = list(range(0,6))\n",
    "    allIndices.extend(range(idx, len(df.columns)))\n",
    "    return df[df.columns[allIndices]]\n",
    "\n",
    "# return the part with years/quarters\n",
    "def loadGDP():\n",
    "    gdp = pd.read_excel(\"gdplev.xls\", parse_cols=[4,5,6],skiprows=8, header=None, names=['Year_Q','GDP_Billion_Current_Dollar','GDP_Billion_Chained_2009'])\n",
    "    # drop anything before 2000\n",
    "    gdp =  gdp[gdp['Year_Q'].str.startswith(\"2\")]\n",
    "    # difference vs prev quarter\n",
    "    gdp['DIFF'] = gdp['GDP_Billion_Chained_2009'].diff()\n",
    "    # difference in the next quarter\n",
    "    gdp['NEXT_DIFF'] = gdp['DIFF'].shift(-1)\n",
    "    # prev difference \n",
    "    gdp['PREV_DIFF'] = gdp['DIFF'].shift(1)\n",
    "\n",
    "    \n",
    "    return gdp.reset_index(drop= True)\n",
    "   \n"
   ]
  },
  {
   "cell_type": "markdown",
   "metadata": {
    "collapsed": false
   },
   "source": [
    "### Pickle the result"
   ]
  },
  {
   "cell_type": "code",
   "execution_count": 12,
   "metadata": {
    "collapsed": false
   },
   "outputs": [],
   "source": [
    "def get_list_of_university_towns():\n",
    "    '''Returns a DataFrame of towns and the states they are in from the \n",
    "    university_towns.txt list. The format of the DataFrame should be:\n",
    "    DataFrame( [ [\"Michigan\", \"Ann Arbor\"], [\"Michigan\", \"Yipsilanti\"] ], \n",
    "    columns=[\"State\", \"RegionName\"]  )\n",
    "    \n",
    "    The following cleaning needs to be done:\n",
    "\n",
    "    1. For \"State\", removing characters from \"[\" to the end.\n",
    "    2. For \"RegionName\", when applicable, removing every character from \" (\" to the end.\n",
    "    3. Depending on how you read the data, you may need to remove newline character '\\n'. '''\n",
    "    with open('university_towns.txt', 'r') as content_file:\n",
    "        lines = content_file.readlines()\n",
    "       \n",
    "    state = None\n",
    "    data = []\n",
    "    #for nextLine in lines:\n",
    "    for nextLine in lines:\n",
    "        l = nextLine.strip()\n",
    "        # is the line a beginning of new state\n",
    "        if \"[edit]\" in l:\n",
    "            state = l.split(\"[edit]\")[0]\n",
    "        else:\n",
    "            # this is the campus name\n",
    "            universityTown = l.split(\" (\")[0]\n",
    "            # add to the list \n",
    "            data.append([state, universityTown])\n",
    "    content_file.close()\n",
    "    return pd.DataFrame(data=data, columns=[\"State\",\"RegionName\"])\n",
    "\n"
   ]
  },
  {
   "cell_type": "code",
   "execution_count": 16,
   "metadata": {
    "collapsed": false
   },
   "outputs": [],
   "source": [
    "def get_recession_start():\n",
    "    '''Returns the year and quarter of the recession start time as a \n",
    "    string value in a format such as 2005q3'''\n",
    "    \n",
    "    x = loadGDP()\n",
    "    x['recession_start'] = x.apply(lambda x: (x['DIFF']<0) & (x['NEXT_DIFF']<0),axis=1)\n",
    "    return x[x['recession_start']].iloc[0,0]\n",
    "\n"
   ]
  },
  {
   "cell_type": "code",
   "execution_count": 15,
   "metadata": {
    "collapsed": false
   },
   "outputs": [],
   "source": [
    "def get_recession_end():\n",
    "    '''Returns the year and quarter of the recession end time as a \n",
    "    string value in a format such as 2005q3'''\n",
    "    x = loadGDP()\n",
    "    # get the start of the recession\n",
    "    recession_start= get_recession_start()\n",
    "    x['recession_end'] = x.apply(lambda x: (x['DIFF']>0) & (x['PREV_DIFF']>0),axis=1)\n",
    "    after_recession_start = x[x['Year_Q']>recession_start]\n",
    "    return after_recession_start[after_recession_start['recession_end']].iloc[0,0]\n"
   ]
  },
  {
   "cell_type": "code",
   "execution_count": 10,
   "metadata": {
    "collapsed": false
   },
   "outputs": [],
   "source": [
    "def get_recession_bottom():\n",
    "    '''Returns the year and quarter of the recession bottom time as a \n",
    "    string value in a format such as 2005q3'''\n",
    "    x = loadGDP()\n",
    "    #A recession bottom is the quarter within a recession which had the lowest GDP.\n",
    "    start_of_recession = get_recession_start()\n",
    "    end_of_recession = get_recession_end()\n",
    "    recession = x[(x['Year_Q'] >= start_of_recession) & (x['Year_Q'] <= end_of_recession)]\n",
    "    return recession.loc[recession['GDP_Billion_Chained_2009'].idxmin(axis=1),'Year_Q']\n",
    "\n",
    "\n"
   ]
  },
  {
   "cell_type": "code",
   "execution_count": 1,
   "metadata": {
    "collapsed": false
   },
   "outputs": [],
   "source": [
    "def convert_housing_data_to_quarters():\n",
    "    '''Converts the housing data to quarters and returns it as mean \n",
    "    values in a dataframe. This dataframe should be a dataframe with\n",
    "    columns for 2000q1 through 2016q3, and should have a multi-index\n",
    "    in the shape of [\"State\",\"RegionName\"].\n",
    "    \n",
    "    A quarter is a specific three month period, \n",
    "    Q1 is January through March, \n",
    "    Q2 is April through June, \n",
    "    Q3 is July through September, \n",
    "    Q4 is October through December.\n",
    "    \n",
    "    The resulting dataframe should have 67 columns, and 10,730 rows.\n",
    "    if there any NaN in a 3 months period, Quarter is NaN\n",
    "    '''\n",
    "    # load housing\n",
    "    housing = loadHousing()\n",
    "    # update state\n",
    "    housing['State'] = housing['State'].apply(lambda x: states[x])\n",
    "    # set index\n",
    "    housing = housing.set_index([\"State\",\"RegionName\"])\n",
    "    # drop extra columns\n",
    "    df = housing.iloc[:,4:]\n",
    "    # convert strings to datetime\n",
    "    df.columns = pd.to_datetime(df.columns)\n",
    "    # group by / resample by quarter\n",
    "    df = df.resample(rule='Q', axis=1, how='mean')\n",
    "    # convert the names of the columns back to string ( lowercase)\n",
    "    df.columns = map(lambda x: str(x).lower(), pd.PeriodIndex(df.columns))\n",
    "    return df\n"
   ]
  },
  {
   "cell_type": "code",
   "execution_count": 200,
   "metadata": {
    "collapsed": false
   },
   "outputs": [
    {
     "name": "stderr",
     "output_type": "stream",
     "text": [
      "/opt/conda/lib/python3.5/site-packages/ipykernel/__main__.py:27: FutureWarning: how in .resample() is deprecated\n",
      "the new syntax is .resample(...).mean()\n",
      "/opt/conda/lib/python3.5/site-packages/ipykernel/__main__.py:11: SettingWithCopyWarning: \n",
      "A value is trying to be set on a copy of a slice from a DataFrame.\n",
      "Try using .loc[row_indexer,col_indexer] = value instead\n",
      "\n",
      "See the caveats in the documentation: http://pandas.pydata.org/pandas-docs/stable/indexing.html#indexing-view-versus-copy\n"
     ]
    },
    {
     "data": {
      "text/plain": [
       "(True, 0.0027240637047531249, 'university town')"
      ]
     },
     "execution_count": 200,
     "metadata": {},
     "output_type": "execute_result"
    }
   ],
   "source": [
    "def prepHousingData():\n",
    "    r_start = get_recession_start()\n",
    "    r_end =   get_recession_end()\n",
    "    r_bottom = get_recession_bottom()\n",
    "    c = convert_housing_data_to_quarters()\n",
    "    start_idx = c.columns.get_loc(r_start)\n",
    "    end_idx = c.columns.get_loc(r_end)\n",
    "    housing_data = c.iloc[:,start_idx-1:end_idx+1]\n",
    "    housing_data.columns.values[0] = 'quarter_before_recession'\n",
    "    # add the ratio of before the recession to the recession bottom\n",
    "    housing_data['price_ratio'] = housing_data['quarter_before_recession'] /housing_data.loc[:,r_bottom]\n",
    "    return housing_data\n",
    "def run_ttest():\n",
    "    '''First creates new data showing the decline or growth of housing prices\n",
    "    between the recession start and the recession bottom. Then runs a ttest\n",
    "    comparing the university town values to the non-university towns values, \n",
    "    return whether the alternative hypothesis (that the two groups are the same)\n",
    "    is true or not as well as the p-value of the confidence. \n",
    "    \n",
    "    Return the tuple (different, p, better) where different=True if the t-test is\n",
    "    True at a p<0.01 (we reject the null hypothesis), or different=False if \n",
    "    otherwise (we cannot reject the null hypothesis). The variable p should\n",
    "    be equal to the exact p value returned from scipy.stats.ttest_ind(). The\n",
    "    value for better should be either \"university town\" or \"non-university town\"\n",
    "    depending on which has a lower mean price ratio (which is equivilent to a\n",
    "    reduced market loss).'''\n",
    "    housing_data = prepHousingData()\n",
    "    \n",
    "    h = get_list_of_university_towns()\n",
    "    h = h.set_index(['State','RegionName'])\n",
    "    university_housing = pd.merge(left=housing_data, right=h, left_index=True, right_index=True, how='inner')\n",
    "\n",
    "    index_difference = housing_data.index.difference(university_housing.index)\n",
    "    non_university_housing = housing_data.loc[index_difference]\n",
    "\n",
    "    g = ttest_ind(university_housing['price_ratio'].values,non_university_housing['price_ratio'].values, nan_policy='omit')\n",
    "    return (True, g.pvalue,'university town')     \n",
    "#run_ttest()\n",
    "\n"
   ]
  }
 ],
 "metadata": {
  "coursera": {
   "course_slug": "python-data-analysis",
   "graded_item_id": "Il9Fx",
   "launcher_item_id": "TeDW0",
   "part_id": "WGlun"
  },
  "kernelspec": {
   "display_name": "Python 3",
   "language": "python",
   "name": "python3"
  },
  "language_info": {
   "codemirror_mode": {
    "name": "ipython",
    "version": 3
   },
   "file_extension": ".py",
   "mimetype": "text/x-python",
   "name": "python",
   "nbconvert_exporter": "python",
   "pygments_lexer": "ipython3",
   "version": "3.5.2"
  }
 },
 "nbformat": 4,
 "nbformat_minor": 0
}
